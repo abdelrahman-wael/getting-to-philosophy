{
  "nbformat": 4,
  "nbformat_minor": 0,
  "metadata": {
    "colab": {
      "name": "Getting to philosophy.ipynb",
      "version": "0.3.2",
      "provenance": [],
      "collapsed_sections": []
    },
    "kernelspec": {
      "name": "python3",
      "display_name": "Python 3"
    }
  },
  "cells": [
    {
      "cell_type": "code",
      "metadata": {
        "id": "LGDOprJxIMAi",
        "colab_type": "code",
        "colab": {}
      },
      "source": [
        "import requests\n",
        "from bs4 import BeautifulSoup\n",
        "import time\n",
        "import urllib"
      ],
      "execution_count": 0,
      "outputs": []
    },
    {
      "cell_type": "code",
      "metadata": {
        "id": "hWA5ny5Qw7gg",
        "colab_type": "code",
        "colab": {}
      },
      "source": [
        "def getting_first_link(html_page,current_url):\n",
        "  reached=0\n",
        "  for element in html_page.find_all(\"p\"):\n",
        "    if element.a is not None:\n",
        "\n",
        "      first_link = element.find(\"a\", recursive=False).get('href')\n",
        "      if element.a.text is \"philosophy\":\n",
        "        reached=1;\n",
        "      \n",
        "      visit_next=urllib.parse.urljoin('https://en.wikipedia.org/', first_link)\n",
        "      return visit_next,reached\n",
        "  print(\"didn t find url associated to page \"+ current_url)\n",
        "  return None,reached\n",
        "  "
      ],
      "execution_count": 0,
      "outputs": []
    },
    {
      "cell_type": "code",
      "metadata": {
        "id": "KHMxi8ZAy4_E",
        "colab_type": "code",
        "outputId": "18f7bd2f-28ba-4710-9673-c10324724449",
        "colab": {
          "base_uri": "https://localhost:8080/",
          "height": 153
        }
      },
      "source": [
        "\n",
        "reached=0\n",
        "print('enter start page url')\n",
        "# current_page_url=\"https://en.wikipedia.org/wiki/International_Phonetic_Alphabet\"\n",
        "current_page_url=input()\n",
        "pages_visited=0\n",
        "while(not reached and pages_visited < 5):  \n",
        "  try:\n",
        "    response = requests.get(current_page_url)\n",
        "  except:\n",
        "    print(\"coudn't retrive the page corresponding to the url\" + current_page_url)\n",
        "    break\n",
        "  html_format = response.text\n",
        "  html_parsed=BeautifulSoup(html_format, \"html.parser\")\n",
        "  current_page_url,reached=getting_first_link(html_parsed,current_page_url)\n",
        "  if current_page_url is None:\n",
        "    print(\"dead end exiting ....\")\n",
        "    break\n",
        "  \n",
        "  pages_visited += 1\n",
        "  time.sleep(2)\n",
        "  print(\"retriving current url=\" ,current_page_url) \n",
        "\n",
        "  \n",
        "if pages_visited < 30:\n",
        "  print(\"sccessfully reached the philosophy page on wiki with url=\"+ current_page_url)\n",
        "else:\n",
        "  print(\"exceeded 30 steps \")"
      ],
      "execution_count": 13,
      "outputs": [
        {
          "output_type": "stream",
          "text": [
            "https://en.wikipedia.org/wiki/Philosophy\n",
            "enter start page url\n",
            "retriving current url= https://en.wikipedia.org/wiki/Alphabet\n",
            "retriving current url= https://en.wikipedia.org/wiki/Letter_(alphabet)\n",
            "retriving current url= https://en.wikipedia.org/wiki/Symbol\n",
            "retriving current url= https://en.wikipedia.org/wiki/Idea\n",
            "retriving current url= https://en.wikipedia.org/wiki/Philosophy\n",
            "sccessfully reached the philosophy page on wiki with url=https://en.wikipedia.org/wiki/Philosophy\n"
          ],
          "name": "stdout"
        }
      ]
    },
    {
      "cell_type": "code",
      "metadata": {
        "id": "0vsVnkCPuZKL",
        "colab_type": "code",
        "outputId": "75c25dbe-f085-422b-8637-14a041701521",
        "colab": {
          "base_uri": "https://localhost:8080/",
          "height": 34
        }
      },
      "source": [
        "dumm\n"
      ],
      "execution_count": 0,
      "outputs": [
        {
          "output_type": "execute_result",
          "data": {
            "text/plain": [
              "'https://en.wikipedia.org/wiki/Philosophy'"
            ]
          },
          "metadata": {
            "tags": []
          },
          "execution_count": 87
        }
      ]
    },
    {
      "cell_type": "code",
      "metadata": {
        "id": "rUonpsUI0okf",
        "colab_type": "code",
        "outputId": "582b00b2-100e-4eb6-e719-b19ec9b35653",
        "colab": {
          "base_uri": "https://localhost:8080/",
          "height": 34
        }
      },
      "source": [
        "end"
      ],
      "execution_count": 0,
      "outputs": [
        {
          "output_type": "execute_result",
          "data": {
            "text/plain": [
              "'https://en.wikipedia.org/wiki/Philosophy'"
            ]
          },
          "metadata": {
            "tags": []
          },
          "execution_count": 96
        }
      ]
    },
    {
      "cell_type": "code",
      "metadata": {
        "id": "tBqASU901JYT",
        "colab_type": "code",
        "outputId": "765ec446-a155-43cb-86c8-a01bcb4fd575",
        "colab": {
          "base_uri": "https://localhost:8080/",
          "height": 34
        }
      },
      "source": [
        "type(dumm)"
      ],
      "execution_count": 0,
      "outputs": [
        {
          "output_type": "execute_result",
          "data": {
            "text/plain": [
              "str"
            ]
          },
          "metadata": {
            "tags": []
          },
          "execution_count": 93
        }
      ]
    },
    {
      "cell_type": "code",
      "metadata": {
        "id": "8e5xwERs1L_x",
        "colab_type": "code",
        "outputId": "e97217a7-2b4b-4c61-d61c-cf43ec10bea8",
        "colab": {
          "base_uri": "https://localhost:8080/",
          "height": 34
        }
      },
      "source": [
        "end is dumm"
      ],
      "execution_count": 0,
      "outputs": [
        {
          "output_type": "execute_result",
          "data": {
            "text/plain": [
              "False"
            ]
          },
          "metadata": {
            "tags": []
          },
          "execution_count": 95
        }
      ]
    },
    {
      "cell_type": "code",
      "metadata": {
        "id": "Qe7pYvXu1Pec",
        "colab_type": "code",
        "colab": {}
      },
      "source": [
        "x=dumm"
      ],
      "execution_count": 0,
      "outputs": []
    },
    {
      "cell_type": "code",
      "metadata": {
        "id": "yXzhuibm1sSn",
        "colab_type": "code",
        "outputId": "ecaff37e-5540-42a7-a495-705e6c4c441e",
        "colab": {
          "base_uri": "https://localhost:8080/",
          "height": 34
        }
      },
      "source": [
        "x is dumm"
      ],
      "execution_count": 0,
      "outputs": [
        {
          "output_type": "execute_result",
          "data": {
            "text/plain": [
              "True"
            ]
          },
          "metadata": {
            "tags": []
          },
          "execution_count": 98
        }
      ]
    },
    {
      "cell_type": "code",
      "metadata": {
        "id": "dl4QdTuO1tf1",
        "colab_type": "code",
        "colab": {}
      },
      "source": [
        ""
      ],
      "execution_count": 0,
      "outputs": []
    }
  ]
}